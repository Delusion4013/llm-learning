{
 "cells": [
  {
   "cell_type": "markdown",
   "id": "85185921",
   "metadata": {},
   "source": [
    "## LLM Function calling (tool use)\n",
    "\n",
    "\n",
    "**Function calling** is the ability of a LLM to interact with customer code / external services. *Tool use* is often used to refer to the same concept. This is often a fine-tuned feature, thus not available to all models.\n",
    "\n",
    "#### Why function call?\n",
    "- keep responses up-to-date\n",
    "- off-loads math,retrieval etc. tasks that are not stable with LLM hallucination\n",
    "- grounding to verifiable data"
   ]
  },
  {
   "cell_type": "code",
   "execution_count": null,
   "id": "fd0105a7",
   "metadata": {},
   "outputs": [],
   "source": [
    "# Setup environment\n",
    "import json, pandas as pd, yfinance as yf"
   ]
  },
  {
   "cell_type": "markdown",
   "id": "4dc1f429",
   "metadata": {},
   "source": [
    "## Defining functions for LLM use\n",
    "\n",
    "### OpenAI Function Schema\n",
    "\n",
    "[OpenAI Function Calling Documentation](https://platform.openai.com/docs/guides/function-calling)\n",
    "\n",
    "Functions can be set in the tools parameter of each API request.\n",
    "\n",
    "A function is defined by its schema, informing LLM about what it does (for LLM to determine whether to use) and what input arguments it expects. The schema contains following fields:\n",
    "\n",
    "| Field         | Description                                                  |\n",
    "| :------------ | :----------------------------------------------------------- |\n",
    "| `type`        | This should always be `function`                             |\n",
    "| `name`        | The function's name (e.g. `fetch_stock_data`)                |\n",
    "| `description` | Details on when and how to use the function                  |\n",
    "| `parameters`  | [JSON schema](https://json-schema.org/) defining the function's input arguments |\n",
    "| `strict`      | Whether to enforce strict mode for the function call         |"
   ]
  },
  {
   "cell_type": "code",
   "execution_count": 69,
   "id": "42fad813",
   "metadata": {},
   "outputs": [],
   "source": [
    "example_tools = [\n",
    "    # Tool 1: Fetch stock data\n",
    "    {\n",
    "        \"type\": \"function\",\n",
    "        \"function\":{\n",
    "            \"name\": \"fetch_stock_highest_price\",\n",
    "            \"description\": \"Fetch historical stock data for a given ticker between start_date and end_date and return the highest stock price\",\n",
    "            \"parameters\": {\n",
    "                \"type\": \"object\",\n",
    "                \"properties\": {\n",
    "                    \"ticker\": {\n",
    "                        \"type\": \"string\",\n",
    "                        \"description\": \"Stock ticker symbol\"\n",
    "                    },\n",
    "                    \"start_date\": {\n",
    "                        \"type\": \"string\",\n",
    "                        \"format\": \"date\",\n",
    "                        \"description\": \"Start date in 'YYYY-MM-DD' format\"\n",
    "                    },\n",
    "                    \"end_date\": {\n",
    "                        \"type\": \"string\",\n",
    "                        \"format\": \"date\",\n",
    "                        \"description\": \"End date in 'YYYY-MM-DD' format\"\n",
    "                    }\n",
    "                },\n",
    "                \"required\": [\"ticker\", \"start_date\", \"end_date\"]\n",
    "            }\n",
    "        }\n",
    "    },\n",
    "    # Tool 2: Get exchange rate\n",
    "    {\n",
    "        \"type\": \"function\",\n",
    "        \"function\":{\n",
    "            \"name\": \"get_exchange_rate\",\n",
    "            \"description\": \"Get the current exchange rate of a base currency and target currency\",\n",
    "            \"parameters\": {\n",
    "                \"type\": \"object\",\n",
    "                \"properties\": {\n",
    "                    \"base_currency\": {\n",
    "                        \"type\": \"string\",\n",
    "                        \"description\": \"The base currency for exchange rate calculations, i.e. USD, EUR, CNY\"\n",
    "                    },\n",
    "                    \"target_currency\": {\n",
    "                        \"type\": \"string\",\n",
    "                        \"description\": \"The target currency for exchange rate calculations, i.e. USD, EUR, CNY\"\n",
    "                    }\n",
    "                },\n",
    "                \"required\": [\"base_currency\", \"target_currency\"]\n",
    "            }\n",
    "        }\n",
    "    }\n",
    "]"
   ]
  },
  {
   "cell_type": "markdown",
   "id": "c2d9c471",
   "metadata": {},
   "source": [
    "## Function calling steps\n",
    "\n",
    "1. Call model with functions defined (pass as parameter) – along with your system and user messages.\n",
    "2. Model decides to call which function(s) – model returns the name and input arguments.\n",
    "3. Execute function code (**on user end**) – parse the model's response and handle function calls.\n",
    "4. Supply model with results – so it can incorporate them into its final response.\n",
    "5. Model responds – incorporating the result in its output."
   ]
  },
  {
   "cell_type": "markdown",
   "id": "9afce827",
   "metadata": {},
   "source": [
    "### 1. Define functions & call model"
   ]
  },
  {
   "cell_type": "code",
   "execution_count": 70,
   "id": "175595b9",
   "metadata": {},
   "outputs": [],
   "source": [
    "# Functions are defined above under OpenAI Function Schema section\n",
    "\n",
    "messages = [\n",
    "    {   \"role\": \"user\",\n",
    "        \"content\": \"How much does 100 USD worth in Eupore? How about in China? What's the highest stock price of AAPL in 2024?\"\n",
    "    }\n",
    "]"
   ]
  },
  {
   "cell_type": "code",
   "execution_count": 71,
   "id": "275ab4d6",
   "metadata": {},
   "outputs": [],
   "source": [
    "# Quick test to ensure the function works\n",
    "from openai import OpenAI\n",
    "\n",
    "# Use OpenAI Compatible API\n",
    "client = OpenAI()\n",
    "\n",
    "response = client.chat.completions.create(\n",
    "    model=\"gpt-4o-mini\",\n",
    "    messages=messages,\n",
    "    tools=example_tools,\n",
    "    tool_choice=\"auto\",\n",
    "    max_tokens=1000,\n",
    ")"
   ]
  },
  {
   "cell_type": "code",
   "execution_count": 61,
   "id": "8f3df981",
   "metadata": {},
   "outputs": [],
   "source": [
    "# Function for printing out responses neatly\n",
    "def pprint_response(response):\n",
    "    print(\"--- Original Response ---\\n\")\n",
    "    print(response, \"\\n\")\n",
    "    \n",
    "    print(\"--- Model Response Message ---\\n\")\n",
    "    print(response.choices[0].message, \"\\n\")\n",
    "    \n",
    "    if response.choices[0].message.tool_calls:\n",
    "        for i in range(0, len(response.choices[0].message.tool_calls)):\n",
    "            print(f\"--- Tool Call {i+1} ---\\n\")\n",
    "            print(f\"Function: {response.choices[0].message.tool_calls[i].function.name}\\n\")\n",
    "            print(f\"Arguments: {response.choices[0].message.tool_calls[i].function.arguments}\\n\")"
   ]
  },
  {
   "cell_type": "markdown",
   "id": "284ec979",
   "metadata": {},
   "source": [
    "### 2. Model decides to call which function(s)"
   ]
  },
  {
   "cell_type": "code",
   "execution_count": 72,
   "id": "6a48c0a8",
   "metadata": {},
   "outputs": [
    {
     "name": "stdout",
     "output_type": "stream",
     "text": [
      "--- Original Response ---\n",
      "\n",
      "ChatCompletion(id='chatcmpl-Bwh3zhOXqtJSFKuZRwjHt9K6Zc2Qd', choices=[Choice(finish_reason='tool_calls', index=0, logprobs=None, message=ChatCompletionMessage(content=None, refusal=None, role='assistant', annotations=[], audio=None, function_call=None, tool_calls=[ChatCompletionMessageToolCall(id='call_d0sAg1JoPJ37wEq96D6gTBR1', function=Function(arguments='{\"base_currency\": \"USD\", \"target_currency\": \"EUR\"}', name='get_exchange_rate'), type='function'), ChatCompletionMessageToolCall(id='call_CYzn4gEHJlaz27eiF0xMxpU4', function=Function(arguments='{\"base_currency\": \"USD\", \"target_currency\": \"CNY\"}', name='get_exchange_rate'), type='function'), ChatCompletionMessageToolCall(id='call_9fEAb1Hf7FI1XBATxX0JjH0U', function=Function(arguments='{\"ticker\": \"AAPL\", \"start_date\": \"2024-01-01\", \"end_date\": \"2024-10-31\"}', name='fetch_stock_highest_price'), type='function')]))], created=1753328259, model='gpt-4o-mini-2024-07-18', object='chat.completion', service_tier='default', system_fingerprint=None, usage=CompletionUsage(completion_tokens=97, prompt_tokens=208, total_tokens=305, completion_tokens_details=CompletionTokensDetails(accepted_prediction_tokens=0, audio_tokens=0, reasoning_tokens=0, rejected_prediction_tokens=0), prompt_tokens_details=PromptTokensDetails(audio_tokens=0, cached_tokens=0))) \n",
      "\n",
      "--- Model Response Message ---\n",
      "\n",
      "ChatCompletionMessage(content=None, refusal=None, role='assistant', annotations=[], audio=None, function_call=None, tool_calls=[ChatCompletionMessageToolCall(id='call_d0sAg1JoPJ37wEq96D6gTBR1', function=Function(arguments='{\"base_currency\": \"USD\", \"target_currency\": \"EUR\"}', name='get_exchange_rate'), type='function'), ChatCompletionMessageToolCall(id='call_CYzn4gEHJlaz27eiF0xMxpU4', function=Function(arguments='{\"base_currency\": \"USD\", \"target_currency\": \"CNY\"}', name='get_exchange_rate'), type='function'), ChatCompletionMessageToolCall(id='call_9fEAb1Hf7FI1XBATxX0JjH0U', function=Function(arguments='{\"ticker\": \"AAPL\", \"start_date\": \"2024-01-01\", \"end_date\": \"2024-10-31\"}', name='fetch_stock_highest_price'), type='function')]) \n",
      "\n",
      "--- Tool Call 1 ---\n",
      "\n",
      "Function: get_exchange_rate\n",
      "\n",
      "Arguments: {\"base_currency\": \"USD\", \"target_currency\": \"EUR\"}\n",
      "\n",
      "--- Tool Call 2 ---\n",
      "\n",
      "Function: get_exchange_rate\n",
      "\n",
      "Arguments: {\"base_currency\": \"USD\", \"target_currency\": \"CNY\"}\n",
      "\n",
      "--- Tool Call 3 ---\n",
      "\n",
      "Function: fetch_stock_highest_price\n",
      "\n",
      "Arguments: {\"ticker\": \"AAPL\", \"start_date\": \"2024-01-01\", \"end_date\": \"2024-10-31\"}\n",
      "\n"
     ]
    }
   ],
   "source": [
    "pprint_response(response)"
   ]
  },
  {
   "cell_type": "markdown",
   "id": "941dd3ce",
   "metadata": {},
   "source": [
    "We can see from the previous response that the model returned three function calling request as `ChatCompletionMessageToolCall`, specifying the function name and arguments extracted from user query. Our next step is to parse these requests and execute the tools on our end."
   ]
  },
  {
   "cell_type": "markdown",
   "id": "176dae02",
   "metadata": {},
   "source": [
    "### 3. Implement and execute functions"
   ]
  },
  {
   "cell_type": "code",
   "execution_count": null,
   "id": "f0450f7c",
   "metadata": {},
   "outputs": [],
   "source": [
    "import yfinance as yf\n",
    "import requests\n",
    "\n",
    "# Example function to fetch stock data\n",
    "def fetch_stock_highest_price(ticker, start_date, end_date):\n",
    "    \"\"\"\n",
    "    Fetch historical stock data for a given ticker between start_date and end_date and return the highest stock price.\n",
    "    \n",
    "    Args:\n",
    "        ticker (str): Stock ticker symbol.\n",
    "        start_date (str): Start date in 'YYYY-MM-DD' format.\n",
    "        end_date (str): End date in 'YYYY-MM-DD' format.\n",
    "    \n",
    "    Returns:\n",
    "        pd.DataFrame: DataFrame containing stock data.\n",
    "    \"\"\"\n",
    "    data = yf.download(ticker, start=start_date, end=end_date)\n",
    "    if data.empty:\n",
    "        raise ValueError(f\"No data found for ticker {ticker} between {start_date} and {end_date}.\")\n",
    "    highest_price = data['High'].max().values[0]\n",
    "    return highest_price\n",
    "\n",
    "def get_exchange_rate(base_currency, target_currency):\n",
    "    \"\"\"\n",
    "    Fetch the exchange rate between two currencies.\n",
    "    \n",
    "    Args:\n",
    "        base_currency (str): The base currency code (e.g., 'USD').\n",
    "        target_currency (str): The target currency code (e.g., 'EUR').\n",
    "    \n",
    "    Returns:\n",
    "        float: Exchange rate from base to target currency.\n",
    "    \"\"\"\n",
    "    # Placeholder for actual exchange rate fetching logic\n",
    "    url = f\"https://cdn.jsdelivr.net/npm/@fawazahmed0/currency-api@latest/v1/currencies/{base_currency.lower()}.json\"\n",
    "    response = requests.get(url)\n",
    "    if response.status_code == 200:\n",
    "        data = response.json()\n",
    "        return data.get(base_currency.lower(), {}).get(target_currency.lower(), None)\n",
    "    else:\n",
    "        raise Exception(f\"Failed to fetch exchange rate for {base_currency}: {response.status_code}\")"
   ]
  },
  {
   "cell_type": "markdown",
   "id": "2c1cb1cb",
   "metadata": {},
   "source": [
    "### 4 & 5. Supply model with results & Model responds"
   ]
  },
  {
   "cell_type": "code",
   "execution_count": null,
   "id": "3426f155",
   "metadata": {},
   "outputs": [
    {
     "name": "stdout",
     "output_type": "stream",
     "text": [
      "\n",
      "Initial Messages:  [{'role': 'user', 'content': \"How much does 100 USD worth in Europe? How about in China? What's the stock price of AAPL in 2024?\"}]\n"
     ]
    },
    {
     "name": "stderr",
     "output_type": "stream",
     "text": [
      "/var/folders/9v/463zyd495kbd_1d2jq0mcvzm0000gn/T/ipykernel_79226/294069534.py:17: FutureWarning: YF.download() has changed argument auto_adjust default to True\n",
      "  data = yf.download(ticker, start=start_date, end=end_date)\n",
      "[*********************100%***********************]  1 of 1 completed"
     ]
    },
    {
     "name": "stdout",
     "output_type": "stream",
     "text": [
      "\n",
      "Response Message: ChatCompletionMessage(content=None, refusal=None, role='assistant', annotations=[], audio=None, function_call=None, tool_calls=[ChatCompletionMessageToolCall(id='call_dV2RIHs8I6sizHQNbcCttcoj', function=Function(arguments='{\"base_currency\": \"USD\", \"target_currency\": \"EUR\"}', name='get_exchange_rate'), type='function'), ChatCompletionMessageToolCall(id='call_8zzfSs18l1TwLMLTKujwqrDG', function=Function(arguments='{\"base_currency\": \"USD\", \"target_currency\": \"CNY\"}', name='get_exchange_rate'), type='function'), ChatCompletionMessageToolCall(id='call_IK3hYUa80S6mqkwE8eCEAer2', function=Function(arguments='{\"ticker\": \"AAPL\", \"start_date\": \"2024-01-01\", \"end_date\": \"2024-12-31\"}', name='fetch_stock_highest_price'), type='function')])\n",
      "\n",
      "Tool Calls: [ChatCompletionMessageToolCall(id='call_dV2RIHs8I6sizHQNbcCttcoj', function=Function(arguments='{\"base_currency\": \"USD\", \"target_currency\": \"EUR\"}', name='get_exchange_rate'), type='function'), ChatCompletionMessageToolCall(id='call_8zzfSs18l1TwLMLTKujwqrDG', function=Function(arguments='{\"base_currency\": \"USD\", \"target_currency\": \"CNY\"}', name='get_exchange_rate'), type='function'), ChatCompletionMessageToolCall(id='call_IK3hYUa80S6mqkwE8eCEAer2', function=Function(arguments='{\"ticker\": \"AAPL\", \"start_date\": \"2024-01-01\", \"end_date\": \"2024-12-31\"}', name='fetch_stock_highest_price'), type='function')]\n",
      "\n",
      "Calling function: get_exchange_rate with arguments: {'base_currency': 'USD', 'target_currency': 'EUR'}\n",
      "\n",
      "Function Response: 0.85184518\n",
      "\n",
      "Appending tool Messages: {'tool_call_id': 'call_dV2RIHs8I6sizHQNbcCttcoj', 'role': 'tool', 'name': 'get_exchange_rate', 'content': '0.85184518'}\n",
      "\n",
      "Calling function: get_exchange_rate with arguments: {'base_currency': 'USD', 'target_currency': 'CNY'}\n",
      "\n",
      "Function Response: 7.16939299\n",
      "\n",
      "Appending tool Messages: {'tool_call_id': 'call_8zzfSs18l1TwLMLTKujwqrDG', 'role': 'tool', 'name': 'get_exchange_rate', 'content': '7.16939299'}\n",
      "\n",
      "Calling function: fetch_stock_highest_price with arguments: {'ticker': 'AAPL', 'start_date': '2024-01-01', 'end_date': '2024-12-31'}\n",
      "\n",
      "Function Response: 259.47408555117545\n",
      "\n",
      "Appending tool Messages: {'tool_call_id': 'call_IK3hYUa80S6mqkwE8eCEAer2', 'role': 'tool', 'name': 'fetch_stock_highest_price', 'content': '259.47408555117545'}\n"
     ]
    },
    {
     "name": "stderr",
     "output_type": "stream",
     "text": [
      "\n"
     ]
    },
    {
     "name": "stdout",
     "output_type": "stream",
     "text": [
      "\n",
      "Final Response: ChatCompletion(id='chatcmpl-BwhDKX8VTk4zOIw6ArRbLRfU1SCEK', choices=[Choice(finish_reason='stop', index=0, logprobs=None, message=ChatCompletionMessage(content='As of the latest available exchange rates:\\n\\n- **100 USD is worth approximately 85.18 EUR** in Europe.\\n- **100 USD is worth approximately 716.94 CNY** in China.\\n\\nRegarding the stock price of Apple Inc. (AAPL) in 2024, it reached a peak price of approximately **$259.47** during that year.', refusal=None, role='assistant', annotations=[], audio=None, function_call=None, tool_calls=None))], created=1753328838, model='gpt-4o-mini-2024-07-18', object='chat.completion', service_tier='default', system_fingerprint=None, usage=CompletionUsage(completion_tokens=75, prompt_tokens=164, total_tokens=239, completion_tokens_details=CompletionTokensDetails(accepted_prediction_tokens=0, audio_tokens=0, reasoning_tokens=0, rejected_prediction_tokens=0), prompt_tokens_details=PromptTokensDetails(audio_tokens=0, cached_tokens=0)))\n",
      "\n",
      "Formatted Response: As of the latest available exchange rates:\n",
      "\n",
      "- **100 USD is worth approximately 85.18 EUR** in Europe.\n",
      "- **100 USD is worth approximately 716.94 CNY** in China.\n",
      "\n",
      "Regarding the stock price of Apple Inc. (AAPL) in 2024, it reached a peak price of approximately **$259.47** during that year.\n"
     ]
    }
   ],
   "source": [
    "# Check the entire conversation flow\n",
    "import inspect # used for function signature inspection\n",
    "\n",
    "def print_conversation_flow(prompt, tools):\n",
    "\n",
    "    # 1. Initialize the conversation with the user's prompt\n",
    "    input_messages = [\n",
    "        {\"role\": \"user\", \"content\": prompt}\n",
    "    ]\n",
    "\n",
    "    print(\"\\nInitial Messages: \", input_messages)\n",
    "\n",
    "    response = client.chat.completions.create(\n",
    "        model=\"gpt-4o-mini\",\n",
    "        messages=input_messages,\n",
    "        tools=tools,\n",
    "        tool_choice=\"auto\",\n",
    "    )\n",
    "\n",
    "    response_message = response.choices[0].message\n",
    "    print(\"\\nResponse Message:\", response_message)\n",
    "\n",
    "    # 2. Check if the model called any tools\n",
    "    tool_calls = response_message.tool_calls\n",
    "    print(\"\\nTool Calls:\", tool_calls)\n",
    "\n",
    "    if tool_calls:\n",
    "        # extend conversation with assitant's reply (tool calls)\n",
    "        input_messages.append(response_message)\n",
    "        available_functions = {\n",
    "            \"fetch_stock_highest_price\": fetch_stock_highest_price,\n",
    "            \"get_exchange_rate\": get_exchange_rate\n",
    "        }\n",
    "        \n",
    "        # Step 3. Call the function with the arguments provided by the model\n",
    "        for tool_call in tool_calls:\n",
    "            function_name = tool_call.function.name\n",
    "            function_to_call = available_functions.get(function_name, None) # Get the function callable\n",
    "            if function_to_call is None:\n",
    "                print(f\"\\nWarning: Function {function_name} is not defined in available tools.\")\n",
    "                continue\n",
    "            arguments = json.loads(tool_call.function.arguments)\n",
    "            \n",
    "            func_sig = inspect.signature(function_to_call)\n",
    "            call_args = {\n",
    "                k: arguments.get(k, v.default) for k, v in func_sig.parameters.items() if k in arguments or v.default is not inspect.Parameter.empty\n",
    "            }\n",
    "            print(f\"\\nCalling function: {function_name} with arguments: {call_args}\")\n",
    "\n",
    "            function_response = str(function_to_call(**call_args))\n",
    "\n",
    "            print(\"\\nFunction Response:\", function_response)\n",
    "\n",
    "            # Step 4. Put output into a tool message\n",
    "            tool_output_message = ({\n",
    "                \"tool_call_id\": tool_call.id,\n",
    "                \"role\": \"tool\",\n",
    "                \"name\": function_name,\n",
    "                \"content\": function_response\n",
    "            })\n",
    "            print(\"\\nAppending tool Messages:\", tool_output_message)\n",
    "\n",
    "            input_messages.append(tool_output_message)\n",
    "\n",
    "    # Step 5. Call the model again with tool outputs included\n",
    "    final_response = client.chat.completions.create(\n",
    "        model=\"gpt-4o-mini\",\n",
    "        messages=input_messages,\n",
    "    )\n",
    "\n",
    "    print(\"\\nFinal Response:\", final_response)\n",
    "    print(\"\\nFormatted Response:\", final_response.choices[0].message.content)\n",
    "\n",
    "    return\n",
    "\n",
    "# Example usage\n",
    "prompt = \"How much does 100 USD worth in Europe? How about in China? What's the stock price of AAPL in 2024?\"\n",
    "print_conversation_flow(prompt, example_tools)"
   ]
  },
  {
   "cell_type": "markdown",
   "id": "b6b41fa6",
   "metadata": {},
   "source": [
    "## Function calling behavior (at model side)\n",
    "\n",
    "There is a parameter `tool_choice` we can specify when calling LLMs with list of tools. This lets the model decide whether to call functions and, if so, which functions to call.\n",
    "\n",
    "There are four options for this parameter to customize the behavior:\n",
    "1. Default behavior: Call zero, one or multiple functions. `tool_choise: \"auto\"`\n",
    "2. To force the model to **always call one or more functions**, you can set `tool_choice: \"required\"`. The model will then select which function(s) to call.\n",
    "3. To force the model to **call only one specific function**, you can set `tool_choice: {\"type\": \"function\", \"name\": \"my_specific_function\"}`.\n",
    "4. To **disable function calling** and force the model to imitate the behavior of no functions are passed, you can set `tool_choice: \"none\"`."
   ]
  }
 ],
 "metadata": {
  "kernelspec": {
   "display_name": "llm-learning",
   "language": "python",
   "name": "python3"
  },
  "language_info": {
   "codemirror_mode": {
    "name": "ipython",
    "version": 3
   },
   "file_extension": ".py",
   "mimetype": "text/x-python",
   "name": "python",
   "nbconvert_exporter": "python",
   "pygments_lexer": "ipython3",
   "version": "3.11.13"
  }
 },
 "nbformat": 4,
 "nbformat_minor": 5
}
