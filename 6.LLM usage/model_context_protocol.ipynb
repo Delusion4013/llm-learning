{
 "cells": [
  {
   "cell_type": "markdown",
   "id": "678f8cb4",
   "metadata": {},
   "source": [
    "## Model Context Protocol (MCP)\n",
    "\n",
    "### Background - why MCP rises?\n",
    "\n",
    "In our previous [function calling notebook](function_calling.ipynb), we learnt how to **use external tools** to enable LLMs to perform more complicated tasks based on OpenAI API. \n",
    "\n",
    "As different model provider arises, there are *not a universal standard / format for managing function calling* for different LLM APIs. For a quick example, OpenAI return the tool use request as a `\"type\": \"function_call\"` message ([source](https://platform.openai.com/docs/guides/function-calling?api-mode=responses#handling-function-calls)), while Claude returns a `\"type\": \"tool_use\"` message ([source](https://docs.anthropic.com/en/api/messages#body-tools)).\n",
    "\n",
    "Besides the formatting issue, function calling also assumes the tools are runned locally, together with where the chat requests were sent.\n",
    "\n",
    "To unify these inconsistences and provide external tool usage, MCP come into play. As in the [Claude MCP](https://modelcontextprotocol.io/docs/getting-started/intro) states:\n",
    "\n",
    "> MCP is an open protocol that **standardizes how applications provide context to LLMs**,..., a standardized way to connect AI models to different data sources and tools."
   ]
  },
  {
   "cell_type": "markdown",
   "id": "a4ac9d4b",
   "metadata": {},
   "source": [
    "### What are MCP components?\n",
    "\n",
    "> MCP follows a client-server architecture where an MCP host — an AI application like Claude Code or Claude Desktop — establishes connections to one or more MCP servers. The MCP host accomplishes this by creating one MCP client for each MCP server. Each MCP client maintains a dedicated one-to-one connection with its corresponding MCP server.\n",
    ">\n",
    "> The key participants in the MCP architecture are:\n",
    "> - MCP Host: The AI application that coordinates and manages one or multiple MCP clients\n",
    "> - MCP Client: A component that maintains a connection to an MCP server and obtains context from an MCP server for the MCP host to use\n",
    "> - MCP Server: A program that provides context to MCP clients\n",
    "\n",
    "The official explaination may seem vague, let's translate them into plain English (with a little lost in precision):\n",
    "\n",
    "MCP defines the behavior between a client and a server like how we are surfing the web. \n",
    "- A MCP server (corresponds to content server) provide tool/resource/prompt services.\n",
    "- A MCP client (corresponds to a subprocess in your browser, example subprocess:render image / render table) are used to send tool calling / resource acquisition requests to server.\n",
    "- A MCP host (corresponds to your browser) is the application that manages all clients.\n",
    "\n"
   ]
  },
  {
   "cell_type": "markdown",
   "id": "4b93c31a",
   "metadata": {
    "vscode": {
     "languageId": "plaintext"
    }
   },
   "source": []
  },
  {
   "cell_type": "markdown",
   "id": "31b197aa",
   "metadata": {
    "vscode": {
     "languageId": "plaintext"
    }
   },
   "source": [
    "## Build a simple MCP server and run them in Claude Desktop\n",
    "\n",
    "Now let's set up a toy mcp server at local following [Claude's tutorial](https://modelcontextprotocol.io/quickstart/server#python)."
   ]
  },
  {
   "cell_type": "markdown",
   "id": "64117e0b",
   "metadata": {},
   "source": [
    "### Reuse code at toy_projects/weather_mcp"
   ]
  },
  {
   "cell_type": "code",
   "execution_count": null,
   "id": "c6557730",
   "metadata": {
    "vscode": {
     "languageId": "shellscript"
    }
   },
   "outputs": [],
   "source": [
    "cd toy_projects/weather_mcp\n",
    "\n",
    "# activate environment and install dependencies\n",
    "uv venv\n",
    "source .venv/bin/activate\n",
    "uv add \"mcp[cli]\" httpx\n",
    "\n",
    "# run the server\n",
    "uv run weather.py"
   ]
  },
  {
   "cell_type": "markdown",
   "id": "12e8b541",
   "metadata": {
    "vscode": {
     "languageId": "shellscript"
    }
   },
   "source": [
    "### Build from scratch"
   ]
  },
  {
   "cell_type": "markdown",
   "id": "569dda73",
   "metadata": {},
   "source": [
    "#### 1. Initialize environment"
   ]
  },
  {
   "cell_type": "code",
   "execution_count": null,
   "id": "04a76513",
   "metadata": {
    "vscode": {
     "languageId": "shellscript"
    }
   },
   "outputs": [],
   "source": [
    "# Create a new directory for our project\n",
    "uv init weather_mcp\n",
    "cd weather_mcp\n",
    "\n",
    "# Create virtual environment and activate it\n",
    "uv venv\n",
    "source .venv/bin/activate\n",
    "\n",
    "# Install dependencies\n",
    "uv add \"mcp[cli]\" httpx\n",
    "\n",
    "# Create our server file\n",
    "touch weather.py"
   ]
  },
  {
   "cell_type": "markdown",
   "id": "864048f7",
   "metadata": {},
   "source": [
    "#### 2. Write server code\n",
    "\n",
    "Things need to do:\n",
    "1. setting up server instance\n",
    "\n",
    "    ```python\n",
    "    from mcp.server.fastmcp import FastMCP\n",
    "    mcp = FastMCP(\"mcp_name_here\")\n",
    "    ```\n",
    "\n",
    "2. Implement tools and register it with `@mcp.tool()`\n",
    "    ```python\n",
    "    @mcp.tool()\n",
    "    async def get_alerts(state: str) -> str:\n",
    "        ...some funtioning code\n",
    "    ```\n",
    "\n",
    "3. run the server in backend\n",
    "    ```python\n",
    "    if __name__ == \"__main__\":\n",
    "        mcp.run(transport='stdio')\n",
    "    ```\n",
    "\n",
    "For detailed code, check [this python file](toy_projects/weather_mcp/weather.py). A simple code scaffold could be found below."
   ]
  },
  {
   "cell_type": "code",
   "execution_count": null,
   "id": "15a220f8",
   "metadata": {},
   "outputs": [],
   "source": [
    "from typing import Any\n",
    "from mcp.server.fastmcp import FastMCP\n",
    "\n",
    "# Initialize FastMCP server\n",
    "mcp = FastMCP(\"mcp_name_here\")\n",
    "\n",
    "# Helper functions for tools\n",
    "def make_nws_request(url: str) -> dict[str, Any] | None:\n",
    "    pass\n",
    "\n",
    "# Define tools\n",
    "@mcp.tool()\n",
    "async def get_alerts(state: str) -> str:\n",
    "    \"\"\"Get weather alerts for a US state.\n",
    "\n",
    "    Args:\n",
    "        state: Two-letter US state code (e.g. CA, NY)\n",
    "    \"\"\"\n",
    "    pass\n",
    "\n",
    "if __name__ == \"__main__\":\n",
    "    # Initialize and run the server\n",
    "    mcp.run(transport='stdio')"
   ]
  },
  {
   "cell_type": "markdown",
   "id": "c177ecdd",
   "metadata": {},
   "source": [
    "#### 3. Register in Claude desktop\n",
    "\n",
    "Add your servers in the mcpServers key, configure stores in `code ~/Library/Application\\ Support/Claude/claude_desktop_config.json`.\n",
    "\n",
    "use `which uv` to get the full path.\n",
    "\n",
    "```json\n",
    "{\n",
    "  \"mcpServers\": {\n",
    "    \"weather\": {\n",
    "      \"command\": \"/full/path/to/uv\",\n",
    "      \"args\": [\n",
    "        \"--directory\",\n",
    "        \"/ABSOLUTE/PATH/TO/PARENT/FOLDER/weather\",\n",
    "        \"run\",\n",
    "        \"weather.py\"\n",
    "      ]\n",
    "    }\n",
    "  }\n",
    "}\n",
    "```\n",
    "\n",
    "Then reload your Claude desktop, you should see the mcp there.\n",
    "\n",
    "<img src=\"assets/imgs/claude_mcp_example.jpg\" alt=\"locating-mcp-tools\" style=\"width:40%;\"/>"
   ]
  },
  {
   "cell_type": "markdown",
   "id": "de6bc4b9",
   "metadata": {},
   "source": [
    "Then we can use mcp based on our query.\n",
    "\n",
    "<img src=\"assets/imgs/claude_mcp_result.png\" alt=\"check-mcp-records\" style=\"width:40%;\"/>"
   ]
  },
  {
   "cell_type": "markdown",
   "id": "02f37dc9",
   "metadata": {},
   "source": []
  }
 ],
 "metadata": {
  "language_info": {
   "name": "python"
  }
 },
 "nbformat": 4,
 "nbformat_minor": 5
}
